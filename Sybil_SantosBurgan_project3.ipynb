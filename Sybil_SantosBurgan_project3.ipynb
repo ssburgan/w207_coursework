{
 "cells": [
  {
   "cell_type": "markdown",
   "metadata": {
    "id": "rWAjdfIsTyhI"
   },
   "source": [
    "# Project 3: Topic Classification using Naive Bayes\n",
    "\n",
    "**Solution**"
   ]
  },
  {
   "cell_type": "markdown",
   "metadata": {
    "id": "p0KwRzrQTyhL"
   },
   "source": [
    "# Intro\n",
    "---\n",
    "In this project, you'll work with text data from newsgroup posts on a variety of topics. You'll train classifiers to distinguish posts by topics inferred from the text. Whereas with digit classification, where each input is relatively **dense** (represented as a 28x28 matrix of pixels, many of which are non-zero), here each document is relatively **sparse** (represented as a **bag-of-words**). Only a few words of the total vocabulary are active in any given document. The assumption is that a label depends only on the count of words, not their order.\n",
    "\n",
    "The `sklearn` documentation on feature extraction may be useful:\n",
    "http://scikit-learn.org/stable/modules/feature_extraction.html\n",
    "\n",
    "Each problem can be addressed succinctly with the included packages -- please don't add any more. Grading will be based on writing clean, commented code, along with a few short answers.\n",
    "\n",
    "As always, you're welcome to work on the project in groups and discuss ideas on Slack, but <b> please prepare your own write-up with your own code. </b>\n",
    "\n",
    "## Grading\n",
    "---\n",
    "- Make sure to answer every part in every question.\n",
    " - There are 7 questions and one extra credit question. \n",
    " - Read carefully what is asked including the notes.\n",
    " - Additional points may be deducted if:\n",
    "   - the code is not clean and well commented, \n",
    "   - and if the functions or answers are too long.\n",
    "\n",
    " ## Requirements:\n",
    "---\n",
    "1. Comment your code.\n",
    "1. All graphs should have titles, label for each axis, and if needed a legend. It should be understandable on its own.\n",
    "1. All code must run on colab.research.google.com\n",
    "1. You should not import any additional libraries.\n",
    "1. Try and minimize the use of the global namespace (meaning keep things in functions).\n",
    "\n"
   ]
  },
  {
   "cell_type": "code",
   "execution_count": 1,
   "metadata": {
    "id": "QNNjknnZTyhN"
   },
   "outputs": [],
   "source": [
    "# This tells matplotlib not to try opening a new window for each plot.\n",
    "%matplotlib inline\n",
    "\n",
    "# General libraries.\n",
    "import re\n",
    "import numpy as np\n",
    "import pandas as pd\n",
    "import matplotlib.pyplot as plt\n",
    "\n",
    "# SK-learn libraries for learning.\n",
    "from sklearn.pipeline import Pipeline\n",
    "from sklearn.neighbors import KNeighborsClassifier\n",
    "from sklearn.linear_model import LogisticRegression\n",
    "from sklearn.naive_bayes import BernoulliNB\n",
    "from sklearn.naive_bayes import MultinomialNB\n",
    "\n",
    "# SK-learn libraries for evaluation.\n",
    "from sklearn.metrics import confusion_matrix\n",
    "from sklearn import metrics\n",
    "from sklearn.metrics import classification_report\n",
    "\n",
    "# SK-learn library for importing the newsgroup data.\n",
    "from sklearn.datasets import fetch_20newsgroups\n",
    "\n",
    "# SK-learn libraries for feature extraction from text.\n",
    "from sklearn.feature_extraction.text import *\n",
    "\n",
    "import nltk"
   ]
  },
  {
   "cell_type": "markdown",
   "metadata": {
    "id": "orEWeRJaTyhO"
   },
   "source": [
    "Load the data, stripping out metadata so that only textual features will be used, and restricting documents to 4 specific topics. By default, newsgroups data is split into training and test sets, but here the test set gets further split into development and test sets.  (If you remove the categories argument from the fetch function calls, you'd get documents from all 20 topics.)"
   ]
  },
  {
   "cell_type": "code",
   "execution_count": 2,
   "metadata": {
    "id": "5b9J-D5DTyhP"
   },
   "outputs": [
    {
     "name": "stdout",
     "output_type": "stream",
     "text": [
      "training label shape: (2034,)\n",
      "dev label shape: (676,)\n",
      "test label shape: (677,)\n",
      "labels names: ['alt.atheism', 'comp.graphics', 'sci.space', 'talk.religion.misc']\n"
     ]
    }
   ],
   "source": [
    "categories = ['alt.atheism', 'talk.religion.misc', 'comp.graphics', 'sci.space']\n",
    "newsgroups_train = fetch_20newsgroups(subset='train',\n",
    "                                      remove=('headers', 'footers', 'quotes'),\n",
    "                                      categories=categories)\n",
    "newsgroups_test  = fetch_20newsgroups(subset='test',\n",
    "                                      remove=('headers', 'footers', 'quotes'),\n",
    "                                      categories=categories)\n",
    "\n",
    "num_test = int(len(newsgroups_test.target) / 2)\n",
    "test_data, test_labels   = newsgroups_test.data[num_test:], newsgroups_test.target[num_test:]\n",
    "dev_data, dev_labels     = newsgroups_test.data[:num_test], newsgroups_test.target[:num_test]\n",
    "train_data, train_labels = newsgroups_train.data, newsgroups_train.target\n",
    "\n",
    "print('training label shape:', train_labels.shape)\n",
    "print('dev label shape:',      dev_labels.shape)\n",
    "print('test label shape:',     test_labels.shape)\n",
    "print('labels names:',         newsgroups_train.target_names)"
   ]
  },
  {
   "cell_type": "markdown",
   "metadata": {
    "id": "zOS6IyT0TyhR"
   },
   "source": [
    "### Question 1: Examining your data\n",
    "---\n",
    "\n",
    " 1. For each of the first 5 training examples, print the text of the message along with the label (checkout newsgroups_train.target_names)."
   ]
  },
  {
   "cell_type": "code",
   "execution_count": 3,
   "metadata": {
    "id": "LFFUipfaTyhS"
   },
   "outputs": [
    {
     "name": "stdout",
     "output_type": "stream",
     "text": [
      "\n",
      "**** Training example 0 ****\n",
      "talk.religion.misc\n",
      "Hi,\n",
      "\n",
      "I've noticed that if you only save a model (with all your mapping planes\n",
      "positioned carefully) to a .3DS file that when you reload it after restarting\n",
      "3DS, they are given a default position and orientation.  But if you save\n",
      "to a .PRJ file their positions/orientation are preserved.  Does anyone\n",
      "know why this information is not stored in the .3DS file?  Nothing is\n",
      "explicitly said in the manual about saving texture rules in the .PRJ file. \n",
      "I'd like to be able to read the texture rule information, does anyone have \n",
      "the format for the .PRJ file?\n",
      "\n",
      "Is the .CEL file format available from somewhere?\n",
      "\n",
      "Rych\n",
      "\n",
      "**** Training example 1 ****\n",
      "sci.space\n",
      "\n",
      "\n",
      "Seems to be, barring evidence to the contrary, that Koresh was simply\n",
      "another deranged fanatic who thought it neccessary to take a whole bunch of\n",
      "folks with him, children and all, to satisfy his delusional mania. Jim\n",
      "Jones, circa 1993.\n",
      "\n",
      "\n",
      "Nope - fruitcakes like Koresh have been demonstrating such evil corruption\n",
      "for centuries.\n",
      "\n",
      "**** Training example 2 ****\n",
      "comp.graphics\n",
      "\n",
      " >In article <1993Apr19.020359.26996@sq.sq.com>, msb@sq.sq.com (Mark Brader) \n",
      "\n",
      "MB>                                                             So the\n",
      "MB> 1970 figure seems unlikely to actually be anything but a perijove.\n",
      "\n",
      "JG>Sorry, _perijoves_...I'm not used to talking this language.\n",
      "\n",
      "Couldn't we just say periapsis or apoapsis?\n",
      "\n",
      " \n",
      "\n",
      "**** Training example 3 ****\n",
      "comp.graphics\n",
      "I have a request for those who would like to see Charley Wingate\n",
      "respond to the \"Charley Challenges\" (and judging from my e-mail, there\n",
      "appear to be quite a few of you.)  \n",
      "\n",
      "It is clear that Mr. Wingate intends to continue to post tangential or\n",
      "unrelated articles while ingoring the Challenges themselves.  Between\n",
      "the last two re-postings of the Challenges, I noted perhaps a dozen or\n",
      "more posts by Mr. Wingate, none of which answered a single Challenge.  \n",
      "\n",
      "It seems unmistakable to me that Mr. Wingate hopes that the questions\n",
      "will just go away, and he is doing his level best to change the\n",
      "subject.  Given that this seems a rather common net.theist tactic, I\n",
      "would like to suggest that we impress upon him our desire for answers,\n",
      "in the following manner:\n",
      "\n",
      "1. Ignore any future articles by Mr. Wingate that do not address the\n",
      "Challenges, until he answers them or explictly announces that he\n",
      "refuses to do so.\n",
      "\n",
      "--or--\n",
      "\n",
      "2. If you must respond to one of his articles, include within it\n",
      "something similar to the following:\n",
      "\n",
      "    \"Please answer the questions posed to you in the Charley Challenges.\"\n",
      "\n",
      "Really, I'm not looking to humiliate anyone here, I just want some\n",
      "honest answers.  You wouldn't think that honesty would be too much to\n",
      "ask from a devout Christian, would you?  \n",
      "\n",
      "Nevermind, that was a rhetorical question.\n",
      "\n",
      "**** Training example 4 ****\n",
      "sci.space\n",
      "AW&ST  had a brief blurb on a Manned Lunar Exploration confernce\n",
      "May 7th  at Crystal City Virginia, under the auspices of AIAA.\n",
      "\n",
      "Does anyone know more about this?  How much, to attend????\n",
      "\n",
      "Anyone want to go?\n"
     ]
    }
   ],
   "source": [
    "def Q1(num_examples=5):\n",
    "    ### STUDENT START ###\n",
    "\n",
    "    for i in range(num_examples):\n",
    "        print(f\"\\n**** Training example {i} ****\")\n",
    "        print(newsgroups_train.target_names[test_labels[i]])\n",
    "        print(train_data[i]) \n",
    "        \n",
    "    ### STUDENT END ###\n",
    "Q1(5)"
   ]
  },
  {
   "cell_type": "markdown",
   "metadata": {
    "id": "r53zpu-mTyhU"
   },
   "source": [
    "### Question 2: Text representation\n",
    "---\n",
    "\n",
    "1. Transform the training data into a matrix of **word** unigram feature vectors.\n",
    "  1. What is the size of the vocabulary? \n",
    "  1. What is the average number of non-zero features per example?  \n",
    "  1. What is the fraction of the non-zero entries in the matrix?  \n",
    "  1. What are the 0th and last feature strings (in alphabetical order)?\n",
    "  - _Use `CountVectorization` and its `.fit_transform` method.  Use `.nnz` and `.shape` attributes, and `.get_feature_names` method._\n",
    "1. Now transform the training data into a matrix of **word** unigram feature vectors restricting to the vocabulary with these 4 words: [\"atheism\", \"graphics\", \"space\", \"religion\"].  Confirm the size of the vocabulary. \n",
    "  1. What is the average number of non-zero features per example?\n",
    "  - _Use `CountVectorization(vocabulary=...)` and its `.transform` method._\n",
    "1. Now transform the training data into a matrix of **character** bigram and trigram feature vectors.  \n",
    "  1. What is the size of the vocabulary?\n",
    "  - _Use `CountVectorization(analyzer=..., ngram_range=...)` and its `.fit_transform` method._\n",
    "1. Now transform the training data into a matrix of **word** unigram feature vectors and prune words that appear in fewer than 10 documents.  \n",
    "  1. What is the size of the vocabulary?<br/>\n",
    "  - _Use `CountVectorization(min_df=...)` and its `.fit_transform` method._\n",
    "1. Now again transform the training data into a matrix of **word** unigram feature vectors. \n",
    " 1. What is the fraction of words in the development vocabulary that is missing from the training vocabulary?\n",
    " - _Hint: Build vocabularies for both train and dev and look at the size of the difference._\n",
    "\n",
    "Notes:\n",
    "* `.fit_transform` makes 2 passes through the data: first it computes the vocabulary (\"fit\"), second it converts the raw text into feature vectors using the vocabulary (\"transform\").\n",
    "* `.fit_transform` and `.transform` return sparse matrix objects.  See about them at http://docs.scipy.org/doc/scipy-0.14.0/reference/generated/scipy.sparse.csr_matrix.html. "
   ]
  },
  {
   "cell_type": "code",
   "execution_count": 4,
   "metadata": {
    "id": "_xkWZwBVTyhV"
   },
   "outputs": [
    {
     "name": "stdout",
     "output_type": "stream",
     "text": [
      "*** 1. Unigram Feature Vectors ***\n",
      "Size of vocabulary:  26879\n",
      "Average number of non-zero features per example: 96.70599803343165\n",
      "Amount of Non-Zero occurences:  196700\n",
      "All entries in matrix:  54671886\n",
      "Fraction of the non-zero entries in the matrix - Sparsity: 0.0035978272269590263\n",
      "0th feature:  00\n",
      "Last feature:  zyxel\n",
      "\n",
      "\n",
      "*** 2. Vocab Restriction ***\n",
      "Average number of non-zero features per example: 0.26843657817109146\n",
      "\n",
      "\n",
      "*** 3. Bigram and Trigram Feature Vectors ***\n",
      "Size of vocabulary:  510583\n",
      "\n",
      "\n",
      "*** 4. Prune words that appear in fewer than 10 documents ***\n",
      "Size of vocabulary:  3064\n",
      "\n",
      "\n",
      "*** 5. Unigram dev words missing from train***\n",
      "Fraction of words in dev vocab missing from the training vocab:  0.395587633468507\n"
     ]
    }
   ],
   "source": [
    "def Q2():\n",
    "    ### STUDENT START ###\n",
    "    #Transform the training data into a matrix of word unigram feature vectors.\n",
    "    print('*** 1. Unigram Feature Vectors ***')\n",
    "    vectorizer = CountVectorizer()\n",
    "    vector = vectorizer.fit_transform(train_data)\n",
    "    \n",
    "    #What is the size of the vocabulary?\n",
    "    print('Size of vocabulary: ', vector.shape[1])\n",
    "    \n",
    "    #What is the average number of non-zero features per example?\n",
    "    print(\"Average number of non-zero features per example: \"+ str(np.average([row.nnz for row in vector])))\n",
    "    \n",
    "    #What is the fraction of the non-zero entries in the matrix?\n",
    "    #Find all non zero entries and divide by all entries\n",
    "    print('Amount of Non-Zero occurences: ', vector.nnz)\n",
    "    print('All entries in matrix: ', vector.shape[0] * vector.shape[1])\n",
    "    sparsity = (vector.nnz / (vector.shape[0] * vector.shape[1]))\n",
    "    print('Fraction of the non-zero entries in the matrix - Sparsity: {}'.format(sparsity))\n",
    "    #print(\"Fraction of the non-zero entries in the matrix: \", sum([1 for row in vector if row.nnz==True])/vector.shape[1])\n",
    "    #x =[i for i, row in enumerate(vector) if row.nnz==True] #non zero entries\n",
    "    #print(x)\n",
    "    \n",
    "    #What are the 0th and last feature strings (in alphabetical order)?\n",
    "    print(\"0th feature: \", vectorizer.get_feature_names()[0])\n",
    "    print(\"Last feature: \", vectorizer.get_feature_names()[-1])\n",
    "    print(\"\\n\")\n",
    "    \n",
    "    print('*** 2. Vocab Restriction ***')\n",
    "    #Now transform the training data into a matrix of word unigram feature vectors \n",
    "    #restricting to the vocabulary with these 4 words: [\"atheism\", \"graphics\", \"space\", \"religion\"]. Confirm the size of the vocabulary\n",
    "\n",
    "    vocabulary = [\"atheism\", \"graphics\", \"space\", \"religion\"]\n",
    "    vectorizer = CountVectorizer(vocabulary=vocabulary)\n",
    "    vectorizer.fit(train_data)\n",
    "    vector = vectorizer.transform(train_data)\n",
    "\n",
    "    #print('Size of vocabulary: ', vector.shape[1])\n",
    "    #What is the average number of non-zero features per example?\n",
    "    print(\"Average number of non-zero features per example: \"+ str(np.average([row.nnz for row in vector]))) \n",
    "    #What are the 0th and last feature strings (in alphabetical order)?\n",
    "    #print(\"0th feature\", vectorizer.get_feature_names()[0])\n",
    "    #print(\"Last feature\", vectorizer.get_feature_names()[-1])\n",
    "    print(\"\\n\")\n",
    "    \n",
    "    print('*** 3. Bigram and Trigram Feature Vectors ***')    \n",
    "    #Now transform the training data into a matrix of character bigram and trigram feature vectors.\n",
    "    vectorizer = CountVectorizer(ngram_range=(2, 3))\n",
    "    vector = vectorizer.fit_transform(train_data)\n",
    "    print('Size of vocabulary: ', vector.shape[1])\n",
    "    #print(\"0th feature\", vectorizer.get_feature_names()[0])\n",
    "    #print(\"Last feature\", vectorizer.get_feature_names()[-1])\n",
    "    print(\"\\n\")\n",
    "    \n",
    "    print('*** 4. Prune words that appear in fewer than 10 documents ***')\n",
    "    vectorizer = CountVectorizer(min_df=10)\n",
    "    vector = vectorizer.fit_transform(train_data)\n",
    "    print('Size of vocabulary: ', vector.shape[1])\n",
    "    print(\"\\n\")\n",
    "    \n",
    "    print('*** 5. Unigram dev words missing from train***')\n",
    "    vectorizer = CountVectorizer()\n",
    "    vector = vectorizer.fit_transform(train_data)\n",
    "    vocab_train = vectorizer.vocabulary_\n",
    "\n",
    "    devvector = vectorizer.fit_transform(dev_data)\n",
    "    vocab_dev = vectorizer.vocabulary_ \n",
    "\n",
    "    print('Fraction of words in dev vocab missing from the training vocab: ', 1-len(vocab_dev)/len(vocab_train))\n",
    "    ### STUDENT END ###\n",
    "\n",
    "Q2()"
   ]
  },
  {
   "cell_type": "markdown",
   "metadata": {
    "id": "dIaSTL9OTyhX"
   },
   "source": [
    "### Question 3: Initial model evaluation\n",
    "---\n",
    "\n",
    "1. Transform the training and development data to matrices of word unigram feature vectors.\n",
    "1. Produce several k-Nearest Neigbors models by varying k, including one with k set to optimize f1 score.  For each model, show the k value and f1 score. \n",
    "1. Produce several Naive Bayes models by varying smoothing (alpha), including one with alpha set approximately to optimize f1 score.  For each model, show the alpha value and f1 score.\n",
    "1. Produce several Logistic Regression models by varying L2 regularization strength (C), including one with C set approximately to optimize f1 score.  For each model, show the C value, f1 score, and sum of squared weights for each topic.\n",
    "1. Why doesn't k-Nearest Neighbors work well for this problem?\n",
    "1. Why doesn't Logistic Regression work as well as Naive Bayes does?\n",
    "1. What is the relationship between logistic regression's sum of squared weights vs. C value?\n",
    "\n",
    "Notes:\n",
    "* Train on the transformed training data.\n",
    "* Evaluate on the transformed development data.\n",
    "* You can use `CountVectorizer` and its `.fit_transform` and `.transform` methods to transform data.\n",
    "* You can use `KNeighborsClassifier(...)` to produce a k-Nearest Neighbors model.\n",
    "* You can use `MultinomialNB(...)` to produce a Naive Bayes model.\n",
    "* You can use `LogisticRegression(C=..., solver=\"liblinear\", multi_class=\"auto\")` to produce a Logistic Regression model.\n",
    "* You can use `LogisticRegression`'s `.coef_` method to get weights for each topic.\n",
    "* You can use `metrics.f1_score(..., average=\"weighted\")` to compute f1 score."
   ]
  },
  {
   "cell_type": "code",
   "execution_count": 5,
   "metadata": {
    "id": "g9JvhGBRTyhX",
    "scrolled": false
   },
   "outputs": [
    {
     "name": "stdout",
     "output_type": "stream",
     "text": [
      "***  k-Nearest Neigbors models ***\n",
      "k = 1, f1 score = 0.3805030018531525\n",
      "k = 3, f1 score = 0.4084150225437623\n",
      "k = 5, f1 score = 0.4287607236218357\n",
      "k = 7, f1 score = 0.45047910006117586\n",
      "k = 9, f1 score = 0.4365666176198027\n",
      "k = 90, f1 score = 0.45189794962774216\n",
      "k = 97, f1 score = 0.464226552540162\n",
      "k = 100, f1 score = 0.4422400339224965\n",
      "\n",
      "optimized k = 97, f1 score = 0.464226552540162\n",
      "\n",
      "***  Naive Bayes models ***\n",
      "a = 1e-10, f1 score = 0.747240657284563\n",
      "a = 0.0001, f1 score = 0.7628348704826354\n",
      "a = 0.001, f1 score = 0.7702518836155706\n",
      "a = 0.01, f1 score = 0.7751663218544357\n",
      "a = 0.1, f1 score = 0.7903052385098862\n",
      "a = 0.5, f1 score = 0.7862862961995258\n",
      "a = 1.0, f1 score = 0.7777320236017224\n",
      "a = 2.0, f1 score = 0.7689966472342658\n",
      "a = 10.0, f1 score = 0.6674814338256576\n",
      "\n",
      "optimized a = 0.1, f1 score = 0.7903052385098862\n",
      "\n",
      "***  Logistic Regression models ***\n",
      "C = 0.001, f1 score = 0.6193046812006844, sum_sq_weights = 0.7339599204965122\n",
      "C = 0.1, f1 score = 0.6966243542418833, sum_sq_weights = 102.27036123567531\n",
      "C = 0.5, f1 score = 0.7084739776490449, sum_sq_weights = 373.72039100020515\n",
      "C = 0.55, f1 score = 0.7119386537206766, sum_sq_weights = 400.2333658486965\n",
      "C = 1.0, f1 score = 0.6944172871853819, sum_sq_weights = 601.4486031899767\n",
      "C = 2.0, f1 score = 0.6940391175616126, sum_sq_weights = 922.2548610985654\n",
      "C = 5, f1 score = 0.6910114442307702, sum_sq_weights = 1513.0278502036558\n",
      "\n",
      "optimized C = 0.55, f1 score = 0.7119386537206766, sum_sq_weights = 400.2333658486965\n"
     ]
    }
   ],
   "source": [
    "def Q3():\n",
    "    ### STUDENT START ###\n",
    "    #Transform the training and development data to matrices of word unigram feature vectors.\n",
    "    vectorizer = CountVectorizer()\n",
    "    train_vector = vectorizer.fit_transform(train_data)\n",
    "\n",
    "    dev_vector = vectorizer.transform(dev_data)\n",
    "    \n",
    "    #Produce several k-Nearest Neigbors models by varying k, including one with k set to optimize f1 score.\n",
    "    print('***  k-Nearest Neigbors models ***')  \n",
    "    f1_score_max_knn = 0\n",
    "    optimal_k = 0\n",
    "    k_values = [1, 3, 5, 7, 9, 90, 97, 100]\n",
    "    #for k in range(1,100):\n",
    "    for k in k_values:\n",
    "        # Create KNN classifier\n",
    "        knn = KNeighborsClassifier(n_neighbors = k)\n",
    "        \n",
    "        # Train on the mini train set.\n",
    "        knn.fit(train_vector,train_labels) \n",
    "        \n",
    "        #Evaluate performance on the dev set.\n",
    "        pred_knn = knn.predict(dev_vector)\n",
    "        score = metrics.f1_score(dev_labels, pred_knn, average=\"weighted\")\n",
    "        print(f\"k = {k}, f1 score = {score}\")\n",
    "        \n",
    "        if f1_score_max_knn == 0 or score > f1_score_max_knn:\n",
    "            f1_score_max_knn = score\n",
    "            optimal_k = k  \n",
    "        \n",
    "    print(f\"\\noptimized k = {optimal_k}, f1 score = {f1_score_max_knn}\")\n",
    "\n",
    "    #Produce several Naive Bayes models by varying smoothing (alpha), including one with alpha set approximately to optimize f1 score\n",
    "    print('\\n***  Naive Bayes models ***') \n",
    "    f1_score_max_nb = 0\n",
    "    optimal_a = 0\n",
    "    alphas = [1.0e-10, 0.0001, 0.001, 0.01, 0.1, 0.5, 1.0, 2.0, 10.0]\n",
    "    for a in alphas:\n",
    "        mnb = MultinomialNB(alpha=a)\n",
    "        mnb.fit(train_vector, train_labels)\n",
    "\n",
    "        #Evaluate performance on the dev set.\n",
    "        pred_mnb = mnb.predict(dev_vector)\n",
    "        score = metrics.f1_score(dev_labels, pred_mnb, average=\"weighted\")\n",
    "        print(f\"a = {a}, f1 score = {score}\")\n",
    "        \n",
    "        if f1_score_max_nb == 0 or score > f1_score_max_nb:\n",
    "            f1_score_max_nb = score\n",
    "            optimal_a = a\n",
    " \n",
    "    print(f\"\\noptimized a = {optimal_a}, f1 score = {f1_score_max_nb}\")\n",
    "    \n",
    "    \n",
    "    #Produce several Logistic Regression by varying L2 regularization strength (C), \n",
    "    #including one with C set approximately to optimize f1 score. \n",
    "    #For each model, show the C value, f1 score, and sum of squared weights\n",
    "    print('\\n***  Logistic Regression models ***') \n",
    "    f1_score_max_lr = 0\n",
    "    optimal_c = 0\n",
    "    c_values  = [0.001, 0.1, 0.50, 0.55, 1.0, 2.0, 5]\n",
    "    for c_val in c_values:\n",
    "        lr = LogisticRegression(C=c_val, solver=\"liblinear\", multi_class=\"auto\")\n",
    "        lr.fit(train_vector, train_labels)\n",
    "        pred_lr = lr.predict(dev_vector)\n",
    "        score = metrics.f1_score(dev_labels, pred_lr, average=\"weighted\")\n",
    "        #sum of squared weights for each topic.\n",
    "        sum_sq_weights = np.sum(np.square(np.abs(lr.coef_)))\n",
    "        \n",
    "        print(f\"C = {c_val}, f1 score = {score}, sum_sq_weights = {sum_sq_weights}\")\n",
    "        \n",
    "        if f1_score_max_lr == 0 or score > f1_score_max_lr:\n",
    "            f1_score_max_lr = score\n",
    "            optimal_c = c_val\n",
    "    \n",
    "\n",
    "    \n",
    "    lr_opt = LogisticRegression(C=0.55, solver=\"liblinear\", multi_class=\"auto\")\n",
    "    lr_opt.fit(train_vector, train_labels)\n",
    "    pred_lr_opt = lr_opt.predict(dev_vector)\n",
    "    score = metrics.f1_score(dev_labels, pred_lr_opt, average=\"weighted\")\n",
    "    sum_sq_weights = np.sum(np.square(np.abs(lr_opt.coef_)))\n",
    "    \n",
    "    print(f\"\\noptimized C = {optimal_c}, f1 score = {score}, sum_sq_weights = {sum_sq_weights}\")\n",
    "    ### STUDENT END ###\n",
    "\n",
    "Q3()"
   ]
  },
  {
   "cell_type": "markdown",
   "metadata": {
    "id": "1K9kU5AETyhY"
   },
   "source": [
    "ANSWER: \n",
    "Why doesn't k-Nearest Neighbors work well for this problem?\n",
    "\n",
    "Why doesn't Logistic Regression work as well as Naive Bayes does?\n",
    "....\n",
    "notes....different models also perform differently with sparse data.  you should think about how many features there are and how well the models do in extreme cases\n",
    "\n",
    "What is the relationship between logistic regression's sum of squared weights vs. C value?\n",
    "The sum of squares is the sum of the square of variation where variation is the spread between the individual values and the mean. It is used to determine the line of best fit. The C value hyperperamer adjusts regulation strength. It allows for a complexity pentalty for more extreme parameters. Extreme parameters in training data can lead to overfitting. A high C value tells the model to give weight to the training data and a lower weight to the complexity pentalty - trust the training data. A low C value gives more weight to complexity penalty at the expense of fitting to training data. In the Logistic models you can see the sum of square values increasing as C increases. This is the spread increasing between the best fit line. The model is overfitting to the training data. "
   ]
  },
  {
   "cell_type": "markdown",
   "metadata": {
    "id": "b46HltEPTyhY"
   },
   "source": [
    "### Question 4: Feature exploration\n",
    "---\n",
    "\n",
    "1. Transform the data to a matrix of word **bigram** feature vectors.  Produce a Logistic Regression model.\n",
    "1. For each topic, find the 5 features with the largest weights (not absolute value). If there are no overlaps, you can expect 20 features in total.\n",
    "1. Show a 20 row (features) x 4 column (topics) table of the weights. So, for each of the features (words) found, we show their weight for all topics.\n",
    "1. Do you see any surprising features in this table?\n",
    "\n",
    "Notes:\n",
    "* Train on the transformed training data.\n",
    "* You can use `CountVectorizer` and its `.fit_transform` method to transform data.\n",
    "* You can use `LogisticRegression(C=0.5, solver=\"liblinear\", multi_class=\"auto\")` to produce a Logistic Regression model.\n",
    "* You can use `LogisticRegression`'s `.coef_` method to get weights for each topic.\n",
    "* You can use `np.argsort` to get indices sorted by element value. \n"
   ]
  },
  {
   "cell_type": "code",
   "execution_count": 6,
   "metadata": {},
   "outputs": [
    {
     "name": "stdout",
     "output_type": "stream",
     "text": [
      "     Name  Age               sybil\n",
      "0     Tom   20         alt.atheism\n",
      "1  Joseph   21       comp.graphics\n",
      "2   Krish   19           sci.space\n",
      "3    John   18  talk.religion.misc\n"
     ]
    }
   ],
   "source": [
    "data = {'Name': ['Tom', 'Joseph', 'Krish', 'John'], 'Age': [20, 21, 19, 18]}\n",
    "data[\"sybil\"] = newsgroups_train.target_names\n",
    "# Create DataFrame.\n",
    "df = pd.DataFrame(data)\n",
    "# Print the output.\n",
    "print(df)"
   ]
  },
  {
   "cell_type": "code",
   "execution_count": 7,
   "metadata": {
    "id": "DerfvONsTyha"
   },
   "outputs": [
    {
     "name": "stdout",
     "output_type": "stream",
     "text": [
      "alt.atheism\n",
      "[0.6055485515545411, 0.5557194352213277, 0.48205042880406834, 0.4727407210654848, 0.4469536835860547]\n",
      "['claim that', 'cheers kent', 'was just', 'you are', 'are you']\n",
      "\n",
      "\n",
      "comp.graphics\n",
      "[1.1083703054211937, 0.8325706146317984, 0.8012017496923247, 0.7586817661616276, 0.754978454726191]\n",
      "['looking for', 'in advance', 'comp graphics', 'out there', 'is there']\n",
      "\n",
      "\n",
      "sci.space\n",
      "[0.8710667743882963, 0.8309978937975367, 0.6210528733099062, 0.590505629590374, 0.5253683051458958]\n",
      "['the space', 'the moon', 'sci space', 'and such', 'it was']\n",
      "\n",
      "\n",
      "talk.religion.misc\n",
      "[0.5519926281726447, 0.5348120382843322, 0.504306716949967, 0.4918745233180049, 0.42374465057488475]\n",
      "['the fbi', 'cheers kent', 'ignorance is', 'but he', 'of jesus']\n",
      "\n",
      "\n"
     ]
    }
   ],
   "source": [
    "def Q4():\n",
    "    ### STUDENT START ###\n",
    "    #Transform the data to a matrix of word bigram feature vectors. Produce a Logistic Regression model.\n",
    "    vectorizer = CountVectorizer(ngram_range=(2, 2))\n",
    "    train_vector = vectorizer.fit_transform(train_data)\n",
    "\n",
    "    dev_vector = vectorizer.transform(dev_data)  \n",
    "    \n",
    "    lr = LogisticRegression(C=0.5, solver=\"liblinear\", multi_class=\"auto\")\n",
    "    \n",
    "    lr.fit(train_vector, train_labels)\n",
    "    \n",
    "    pred_lr = lr.predict(dev_vector)\n",
    "    score = metrics.f1_score(dev_labels, pred_lr, average=\"weighted\")\n",
    "    coef = lr.coef_\n",
    "    #print(coef)\n",
    "    #data = \n",
    "    for i in range(coef.shape[0]):\n",
    "        print(newsgroups_train.target_names[i])\n",
    "        out_arr = np.argsort(-coef[i])\n",
    "\n",
    "        top5 = out_arr[0:5]\n",
    "        print([coef[i][x] for x in top5])\n",
    "        print([vectorizer.get_feature_names()[x] for x in top5])\n",
    "        print('\\n')\n",
    "    ### STUDENT END ###\n",
    "\n",
    "Q4()"
   ]
  },
  {
   "cell_type": "markdown",
   "metadata": {
    "id": "odPhAx_yTyhb"
   },
   "source": [
    "ANSWER:  Do you see any surprising features in this table?\n",
    "\n",
    "Need help on this"
   ]
  },
  {
   "cell_type": "markdown",
   "metadata": {
    "id": "UNC3BCjUTyhb"
   },
   "source": [
    "### Question 5: Pre-processing for text\n",
    "---\n",
    "\n",
    "To improve generalization, it is common to try preprocessing text in various ways before splitting into words. For example, you could try transforming strings to lower case, replacing sequences of numbers with single tokens, removing various non-letter characters, and shortening long words.\n",
    "\n",
    "1. Produce a Logistic Regression model (with no preprocessing of text). **Note that you may need to override the \"default\" preprocessing with an identity function**. Evaluate and show its f1 score and size of the dictionary.\n",
    "1. Produce an improved Logistic Regression model by preprocessing the text. Evaluate and show its f1 score and size of the vocabulary.  Aim for an improvement in f1 score of 0.02. **Note: this is actually very hard**.\n",
    "1. How much did the improved model reduce the vocabulary size?\n",
    "\n",
    "Notes:\n",
    "* Things you can try: ** ???: Anything else we can suggest** \n",
    " - Look at default pre-processing done.\n",
    " - Removing stop words.\n",
    " - Experiment with different ways of getting rid of apostrophe's such as replacing them with spaces or with empty strings.\n",
    "  - Lower casing.\n",
    "  - Including both lowercase and original case versions of a word.\n",
    "  - nltk functions such as stemming.\n",
    "* Train on the \"transformed\" training data, the data after you applied pre-processing.\n",
    "* Evaluate on the transformed development data. Note that you never want to \"learn\" anything from the dev data.\n",
    "* You can use `CountVectorizer(preprocessor=...)` to preprocess strings with your own custom-defined function.\n",
    "* `CountVectorizer` default is to preprocess strings to lower case.\n",
    "* You can use `LogisticRegression(C=0.5, solver=\"liblinear\", multi_class=\"auto\")` to produce a logistic regression model.\n",
    "* You can use `metrics.f1_score(..., average=\"weighted\")` to compute f1 score.\n",
    "* If you're not already familiar with regular expressions for manipulating strings, see https://docs.python.org/2/library/re.html, and re.sub() in particular.\n",
    "* The order you apply pre-processing may produce different results.\n"
   ]
  },
  {
   "cell_type": "code",
   "execution_count": 8,
   "metadata": {
    "id": "3lDatbSPTyhb"
   },
   "outputs": [
    {
     "name": "stdout",
     "output_type": "stream",
     "text": [
      "\n",
      "***  Logistic Regression model - No Processing ***\n",
      "Size of vocabulary:  26879\n",
      "f1 score = 0.7084739776490449\n",
      "\n",
      "***  Logistic Regression model - Processed ***\n",
      "Size of processed vocabulary:  26146\n",
      "f1 score = 0.7252762345686944\n",
      "Vocabulary reduced by = 733\n"
     ]
    }
   ],
   "source": [
    "### STUDENT START ###\n",
    "from nltk import word_tokenize\n",
    "from nltk.stem import WordNetLemmatizer\n",
    "class LemmaTokenizer:\n",
    "    def __init__(self):\n",
    "        self.wnl = WordNetLemmatizer()\n",
    "    def __call__(self, doc):\n",
    "        return [self.wnl.lemmatize(t) for t in word_tokenize(doc)]\n",
    "\n",
    "def text_preprocessor(text):\n",
    "    text = text.lower()\n",
    "    text = re.sub(\"\\W\",' ',text) # replace non-alphanumeric\n",
    "    text = re.sub(\"_\",' ',text) # replace non-alphanumeric\n",
    "    text = re.sub('\\n', '', text)   \n",
    "    return text\n",
    "\n",
    "\n",
    "def Q5():\n",
    "\n",
    "    #Produce a Logistic Regression model (with no preprocessing of text)\n",
    "    print('\\n***  Logistic Regression model - No Processing ***') \n",
    "    vectorizer=CountVectorizer()\n",
    "\n",
    "    vector = vectorizer.fit_transform(train_data)\n",
    "    print('Size of vocabulary: ', vector.shape[1])\n",
    "    dev_vector = vectorizer.transform(dev_data)  #transform dev data\n",
    "    \n",
    "    lr = LogisticRegression(C=0.5, solver=\"liblinear\", multi_class=\"auto\")\n",
    "    \n",
    "    lr.fit(vector, train_labels)\n",
    "    \n",
    "    pred_lr = lr.predict(dev_vector)\n",
    "    \n",
    "    score = metrics.f1_score(dev_labels, pred_lr, average=\"weighted\")\n",
    "    print(f\"f1 score = {score}\")\n",
    "    \n",
    "    \n",
    "    print('\\n***  Logistic Regression model - Processed ***') \n",
    "    #, tokenizer=LemmaTokenizer()\n",
    "    vectorizer_processed = CountVectorizer(stop_words='english', preprocessor=text_preprocessor)\n",
    "    \n",
    "    vector_processed = vectorizer_processed.fit_transform(train_data)\n",
    "    \n",
    "    print('Size of processed vocabulary: ', vector_processed.shape[1])\n",
    "\n",
    "    train_vector_processed = vectorizer_processed.fit_transform(train_data)\n",
    "\n",
    "    dev_vector_processed = vectorizer_processed.transform(dev_data)  #transform dev data\n",
    "    \n",
    "    lr_processed = LogisticRegression(C=0.5, solver=\"liblinear\", multi_class=\"auto\")\n",
    "    \n",
    "    lr_processed.fit(train_vector_processed, train_labels)\n",
    "    \n",
    "    pred_lr_processed = lr_processed.predict(dev_vector_processed) #evaluate on transformed dev data\n",
    "    \n",
    "    score_processed = metrics.f1_score(dev_labels, pred_lr_processed, average=\"weighted\")\n",
    "    print(f\"f1 score = {score_processed}\")\n",
    "    vocab_reduction = vector.shape[1] - vector_processed.shape[1]\n",
    "    print(f\"Vocabulary reduced by = {vocab_reduction}\")\n",
    "    \n",
    "    ### STUDENT END ###\n",
    "#notes can't seem to run stemming and lemm\n",
    "Q5()"
   ]
  },
  {
   "cell_type": "markdown",
   "metadata": {
    "id": "tLRc7vDBTyhb"
   },
   "source": [
    "### Question 6: L1 and L2 regularization\n",
    "---\n",
    "\n",
    "The idea of regularization is to avoid learning very large weights (which are likely to fit the training data, but not generalize well) by adding a penalty to the total size of the learned weights. Logistic regression seeks the set of weights that minimizes errors in the training data AND has a small total size. The default L2 regularization computes this size as the sum of the squared weights (as in Part 3 above). L1 regularization computes this size as the sum of the absolute values of the weights. Whereas L2 regularization makes all the weights relatively small, **L1 regularization drives many of the weights to 0, effectively removing unimportant features**. For this reason, we can use it as a way to do \"feature selection\".\n",
    "\n",
    "1. For several L1 regularization strengths ...\n",
    "  1. Produce a Logistic Regression model using the **L1** regularization strength.  Reduce the vocabulary to only those features that have at least one non-zero weight among the four categories.\n",
    "  1. Produce a new Logistic Regression model using the reduced vocabulary . For this new model, use an **L2** regularization strength of 0.5.  \n",
    "  1. Evaluate and show the L1 regularization strength, vocabulary size, and f1 score associated with the new model.\n",
    "1. Show a plot of f1 score vs. log vocabulary size.  Each point corresponds to a specific L1 regularization strength used to reduce the vocabulary.\n",
    "1. How does performance of the models based on reduced vocabularies compare to that of a model based on the full vocabulary?\n",
    "\n",
    "Notes:\n",
    "* No need to apply pre-processing from question 5.\n",
    "* Train on the transformed (i.e. CountVectorizer) training data.\n",
    "* Evaluate on the transformed development data (using the CountVectorizer instance you trained on the training data).\n",
    "* You can use `LogisticRegression(..., penalty=\"l1\")` to produce a logistic regression model using L1 regularization.\n",
    "* You can use `LogisticRegression(..., penalty=\"l2\")` to produce a logistic regression model using L2 regularization.\n",
    "* You can use `LogisticRegression(..., tol=0.015)` to produce a logistic regression model using relaxed gradient descent convergence criteria.  The gradient descent code that trains the logistic regression model sometimes has trouble converging with extreme settings of the C parameter. Relax the convergence criteria by setting tol=.015 (the default is .0001).\n",
    "* (solver=\"liblinear\" might be needed for it not to crash)"
   ]
  },
  {
   "cell_type": "code",
   "execution_count": 9,
   "metadata": {
    "id": "7dva_PsvTyhb"
   },
   "outputs": [
    {
     "name": "stdout",
     "output_type": "stream",
     "text": [
      "L1 regularization -  C = 0.001, f1 score = 0.24492835290439324\n",
      "L2 regularization - L1 reg strength = 0.001, L2 C = 0.5, f1 score = 0.33356858531863487, vocab size = 3\n",
      "\n",
      " \n",
      "L1 regularization -  C = 0.01, f1 score = 0.4205146637187051\n",
      "L2 regularization - L1 reg strength = 0.01, L2 C = 0.5, f1 score = 0.4678284761184072, vocab size = 17\n",
      "\n",
      " \n",
      "L1 regularization -  C = 0.1, f1 score = 0.6424582625601405\n",
      "L2 regularization - L1 reg strength = 0.1, L2 C = 0.5, f1 score = 0.6865593853478084, vocab size = 211\n",
      "\n",
      " \n",
      "L1 regularization -  C = 0.5, f1 score = 0.690919411977676\n",
      "L2 regularization - L1 reg strength = 0.5, L2 C = 0.5, f1 score = 0.6616927723344157, vocab size = 740\n",
      "\n",
      " \n",
      "L1 regularization -  C = 1.0, f1 score = 0.6917477190557754\n",
      "L2 regularization - L1 reg strength = 1.0, L2 C = 0.5, f1 score = 0.6854205787416996, vocab size = 1129\n",
      "\n",
      " \n",
      "L1 regularization -  C = 2.0, f1 score = 0.6823872559391101\n",
      "L2 regularization - L1 reg strength = 2.0, L2 C = 0.5, f1 score = 0.6958128574930106, vocab size = 1721\n",
      "\n",
      " \n",
      "L1 regularization -  C = 6, f1 score = 0.6580067299231553\n",
      "L2 regularization - L1 reg strength = 6, L2 C = 0.5, f1 score = 0.6991279106520777, vocab size = 2626\n",
      "\n",
      " \n",
      "L1 regularization -  C = 8, f1 score = 0.6711699812617866\n",
      "L2 regularization - L1 reg strength = 8, L2 C = 0.5, f1 score = 0.7042404650578029, vocab size = 2958\n",
      "\n",
      " \n",
      "L1 regularization -  C = 10, f1 score = 0.669328045522087\n",
      "L2 regularization - L1 reg strength = 10, L2 C = 0.5, f1 score = 0.6860792590460607, vocab size = 3489\n",
      "\n",
      " \n",
      "L1 regularization -  C = 20, f1 score = 0.6544464490617633\n",
      "L2 regularization - L1 reg strength = 20, L2 C = 0.5, f1 score = 0.7055893999135534, vocab size = 4505\n",
      "\n",
      " \n"
     ]
    },
    {
     "data": {
      "image/png": "[encoded data removed]",
      "text/plain": [
       "<Figure size 432x288 with 1 Axes>"
      ]
     },
     "metadata": {
      "needs_background": "light"
     },
     "output_type": "display_data"
    }
   ],
   "source": [
    "def Q6():\n",
    "    # Keep this random seed here to make comparison easier.\n",
    "    np.random.seed(0)\n",
    "\n",
    "    ### STUDENT START ###\n",
    "    vectorizer = CountVectorizer() \n",
    "    vector = vectorizer.fit_transform(train_data)\n",
    "    \n",
    "     #transform dev data\n",
    "    dev_vector = vectorizer.transform(dev_data) \n",
    "    \n",
    "    #print('Size of vocabulary: ', vector.shape[1])\n",
    "    \n",
    "    C_values  = [0.001,0.01,0.1,0.50,1.0,2.0,6,8,10,20]\n",
    "    f_scores = []\n",
    "    vocab_size = []\n",
    "    for c_val in C_values:\n",
    "\n",
    "        #print('Size of vocabulary: ', vector.shape[1])\n",
    "        # L1 regularization\n",
    "        lr1 = LogisticRegression(C=c_val, solver=\"liblinear\",  multi_class=\"auto\", penalty=\"l1\", tol=.015)\n",
    "        lr1.fit(vector, train_labels)   \n",
    "    \n",
    "        pred_lr = lr1.predict(dev_vector)\n",
    "    \n",
    "        score = metrics.f1_score(dev_labels, pred_lr, average=\"weighted\")\n",
    "       \n",
    "        vocab = vectorizer.vocabulary_\n",
    "\n",
    "        print(f\"L1 regularization -  C = {c_val}, f1 score = {score}\")\n",
    "\n",
    "        #nz_indx1 = np.unique(np.nonzero(lr1.coef_.flatten()))\n",
    "        #print('nz ', len(nz_indx1))\n",
    "        #print('coef shape ', lr1.coef_.shape)\n",
    "        \n",
    "        nz_indx = []         \n",
    "        for i in range(lr1.coef_.shape[0]):\n",
    "            non_zero_idx = np.nonzero(lr1.coef_[i])[0].tolist()\n",
    "            #print('coef ', len(np.nonzero(lr1.coef_[i])[0].tolist()))\n",
    "            nz_indx = nz_indx+ np.nonzero(lr1.coef_[i])[0].tolist()  \n",
    "        nz_indx = np.unique(nz_indx) \n",
    "\n",
    "        #Get the vocab to reduce\n",
    "        vocab_reduce = [vectorizer.get_feature_names()[x] for x in nz_indx]\n",
    "        \n",
    "        #Use the non zero vocab to reduce\n",
    "        vectorizer2 = CountVectorizer(vocabulary=vocab_reduce)\n",
    "        vector2 = vectorizer2.fit_transform(train_data)\n",
    "\n",
    "        #transform dev data\n",
    "        dev_vector2 = vectorizer2.transform(dev_data)  \n",
    "    \n",
    "        lr2 = LogisticRegression(C=0.5, solver=\"liblinear\", multi_class=\"auto\", penalty=\"l2\", tol=.015 )\n",
    "        lr2.fit(vector2, train_labels)   \n",
    "  \n",
    "        pred_lr2 = lr2.predict(dev_vector2)\n",
    "        score = metrics.f1_score(dev_labels, pred_lr2, average=\"weighted\")\n",
    "\n",
    "        vocab_dev2 = vectorizer2.vocabulary_\n",
    "        f_scores.append(score)\n",
    "        vocab_size.append(len(vocab_dev2))\n",
    "        print(f\"L2 regularization - L1 reg strength = {c_val}, L2 C = 0.5, f1 score = {score}, vocab size =\", len(vocab_dev2))\n",
    "\n",
    "        print(\"\\n \")\n",
    "        \n",
    "    plt.figure() \n",
    "    plt.plot(vocab_size, f_scores, marker='o', label = \"Accuracies\")\n",
    "    #plt.plot(train_sizes_b, logistic_pred,  marker='o', label = \"Predicted Accuracy\")\n",
    "    #plt.xlim(0, 25600)\n",
    "    #plt.ylim(0.70, 1)\n",
    "    plt.title('Accuracy by Vocabulary Size -  with L1 regularization reduced vocabulary')\n",
    "    plt.ylabel('Accuracy')\n",
    "    plt.xlabel('Vocabulary Size')\n",
    "    plt.legend()\n",
    "    \n",
    "    plt.show()\n",
    "\n",
    "    ### STUDENT END ###\n",
    "\n",
    "Q6()"
   ]
  },
  {
   "cell_type": "markdown",
   "metadata": {
    "id": "XbrmPrLaTyhc"
   },
   "source": [
    "ANSWER: How does performance of the models based on reduced vocabularies compare to that of a model based on the full vocabulary?"
   ]
  },
  {
   "cell_type": "markdown",
   "metadata": {
    "id": "AQJQimS8Tyhd"
   },
   "source": [
    "### Question 7: TfIdf\n",
    "---\n",
    "As you may recall [tf-idf](https://en.wikipedia.org/wiki/Tf%E2%80%93idf) stands for *term frequency inverse document frequency* and is a way to assign a weight to each word or token signifying their importance for a document in a corpus (a collection of documents).\n",
    "\n",
    "Produce a Logistic Regression model based on data represented in tf-idf form, with L2 regularization strength of 100.  Evaluate and show the f1 score.  How is `TfidfVectorizer` different than `CountVectorizer`?\n",
    "\n",
    "1. How is `TfidfVectorizer` different than `CountVectorizer`?\n",
    "1. Show the 3 documents with highest R ratio, where ...\n",
    "  - $R\\,ratio = maximum\\,predicted\\,probability \\div predicted\\,probability\\,of\\,correct\\,label$\n",
    "1. Explain what the R ratio describes.\n",
    "1. What kinds of mistakes is the model making? Suggest a way to address one particular issue that you see.\n",
    "\n",
    "Note:\n",
    "* Train on the transformed training data.\n",
    "* Evaluate on the transformed development data.\n",
    "* You can use `TfidfVectorizer` and its `.fit_transform` method to transform data to tf-idf form.\n",
    "* You can use `LogisticRegression(C=100, solver=\"liblinear\", multi_class=\"auto\")` to produce a logistic regression model.\n",
    "* You can use `LogisticRegression`'s `.predict_proba` method to access predicted probabilities."
   ]
  },
  {
   "cell_type": "code",
   "execution_count": 10,
   "metadata": {
    "id": "Llsrh11LTyhd"
   },
   "outputs": [
    {
     "ename": "IndentationError",
     "evalue": "expected an indented block (<ipython-input-10-27e7877cd080>, line 6)",
     "output_type": "error",
     "traceback": [
      "\u001b[1;36m  File \u001b[1;32m\"<ipython-input-10-27e7877cd080>\"\u001b[1;36m, line \u001b[1;32m6\u001b[0m\n\u001b[1;33m    Q7()\u001b[0m\n\u001b[1;37m    ^\u001b[0m\n\u001b[1;31mIndentationError\u001b[0m\u001b[1;31m:\u001b[0m expected an indented block\n"
     ]
    }
   ],
   "source": [
    "def Q7():\n",
    "    ### STUDENT START ###\n",
    "\n",
    "    ### STUDENT END ###\n",
    "\n",
    "Q7()"
   ]
  },
  {
   "cell_type": "markdown",
   "metadata": {
    "id": "w7SnJ7mTTyhe"
   },
   "source": [
    "ANSWER: "
   ]
  },
  {
   "cell_type": "markdown",
   "metadata": {
    "id": "Smtoa6tHTyhf"
   },
   "source": [
    "### Question 8 EXTRA CREDIT:\n",
    "---\n",
    "Produce a Logistic Regression model to implement your suggestion from Part 7."
   ]
  },
  {
   "cell_type": "code",
   "execution_count": null,
   "metadata": {
    "id": "uCLc-do1Tyhf"
   },
   "outputs": [],
   "source": []
  },
  {
   "cell_type": "code",
   "execution_count": null,
   "metadata": {},
   "outputs": [],
   "source": []
  }
 ],
 "metadata": {
  "colab": {
   "collapsed_sections": [],
   "name": "firstname_lastname_project3.ipynb",
   "provenance": []
  },
  "kernelspec": {
   "display_name": "Python 3",
   "language": "python",
   "name": "python3"
  },
  "language_info": {
   "codemirror_mode": {
    "name": "ipython",
    "version": 3
   },
   "file_extension": ".py",
   "mimetype": "text/x-python",
   "name": "python",
   "nbconvert_exporter": "python",
   "pygments_lexer": "ipython3",
   "version": "3.8.10"
  },
  "toc": {
   "base_numbering": 1,
   "nav_menu": {},
   "number_sections": false,
   "sideBar": true,
   "skip_h1_title": true,
   "title_cell": "Table of Contents",
   "title_sidebar": "Contents",
   "toc_cell": false,
   "toc_position": {},
   "toc_section_display": true,
   "toc_window_display": false
  }
 },
 "nbformat": 4,
 "nbformat_minor": 1
}
