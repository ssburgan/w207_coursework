{
 "cells": [
  {
   "cell_type": "markdown",
   "metadata": {
    "id": "iNALzZOKTzOS"
   },
   "source": [
    "# Project 2: Digit Classification Naive Bayes\n",
    "\n",
    "**Solution**"
   ]
  },
  {
   "cell_type": "markdown",
   "metadata": {
    "id": "EBRkdIUUTzOV"
   },
   "source": [
    "# Intro\n",
    "---\n",
    "In this project, you'll continue working on your own image recognition system for classifying digits. Read through the code and the instructions carefully and add your own code where indicated. Each problem can be addressed succinctly with the included packages -- please don't add any more. \n",
    "As always, you're welcome to work on the project in groups and discuss ideas over Slack, but <b> please prepare your own write-up (with your own code). </b>\n",
    "\n",
    "\n",
    "## Grading\n",
    "---\n",
    " - Make sure to answer every part in every question.\n",
    " - There are 6 questions, each equally weighted and an additional bonus question.\n",
    " - The extra credit question will be graded based on your attempts at feature engineering and resulting improved accuracy.\n",
    " - Read carefully what is asked including the notes.\n",
    " - Additional points may be deducted if:\n",
    "   - the code is not clean, well commented,\n",
    "  -  if the functions or answers are too long.\n",
    "\n",
    "## Requirements:\n",
    "---\n",
    "1. Comment your code.\n",
    "1. All graphs should have titles, label for each axis, and if needed a legend. It should be understandable on its own.\n",
    "1. All code must run on colab.research.google.com\n",
    "1. You should not import any additional libraries.\n",
    "1. Try and minimize the use of the global namespace (meaning keep things in functions).\n",
    "\n",
    "## Additional Reading and notes\n",
    "---\n",
    "If you're interested, check out these links related to digit recognition:\n",
    "\n",
    "* Yann Lecun's MNIST benchmarks: http://yann.lecun.com/exdb/mnist/\n",
    "* Stanford Streetview research and data: http://ufldl.stanford.edu/housenumbers/\n",
    "\n",
    "Finally, if you'd like to get started with Tensorflow, you can read through this tutorial: https://www.tensorflow.org/tutorials/keras/basic_classification. It uses a dataset called \"fashion_mnist\", which is identical in structure to the original digit mnist, but uses images of clothing rather than images of digits. The number of training examples and number of labels is the same. In fact, you can simply replace the code that loads \"fashion_mnist\" with \"mnist\" and everything should work fine."
   ]
  },
  {
   "cell_type": "code",
   "execution_count": 11,
   "metadata": {
    "id": "r8u7GmsDTzOX"
   },
   "outputs": [],
   "source": [
    "# This tells matplotlib not to try opening a new window for each plot.\n",
    "%matplotlib inline\n",
    "\n",
    "# Import a bunch of libraries.\n",
    "import time\n",
    "import numpy as np\n",
    "import pandas as pd\n",
    "import matplotlib.pyplot as plt\n",
    "import seaborn as sns\n",
    "from matplotlib.ticker import MultipleLocator\n",
    "from sklearn.pipeline import Pipeline\n",
    "from sklearn.datasets import fetch_openml\n",
    "from sklearn.neighbors import KNeighborsClassifier\n",
    "from sklearn.metrics import confusion_matrix\n",
    "from sklearn.linear_model import LinearRegression\n",
    "from sklearn.naive_bayes import BernoulliNB\n",
    "from sklearn.naive_bayes import MultinomialNB\n",
    "from sklearn.naive_bayes import GaussianNB\n",
    "from sklearn.model_selection import GridSearchCV\n",
    "from sklearn.metrics import classification_report\n",
    "\n",
    "# Set the randomizer seed so results are the same each time.\n",
    "np.random.seed(0)"
   ]
  },
  {
   "cell_type": "code",
   "execution_count": 12,
   "metadata": {
    "id": "bWOWoq_dTzOY"
   },
   "outputs": [
    {
     "data": {
      "text/plain": [
       "'0.24.2'"
      ]
     },
     "execution_count": 12,
     "metadata": {},
     "output_type": "execute_result"
    }
   ],
   "source": [
    "import sklearn\n",
    "sklearn.__version__"
   ]
  },
  {
   "cell_type": "markdown",
   "metadata": {
    "id": "J1-CAjA9TzOa"
   },
   "source": [
    "Load the data. Notice that the data gets partitioned into training, development, and test sets. Also, a small subset of the training data called mini_train_data and mini_train_labels gets defined, which you should use in all the experiments below, unless otherwise noted."
   ]
  },
  {
   "cell_type": "code",
   "execution_count": 13,
   "metadata": {
    "id": "f9kPmCW0TzOb"
   },
   "outputs": [
    {
     "name": "stdout",
     "output_type": "stream",
     "text": [
      "data shape:  (70000, 784)\n",
      "label shape: (70000,)\n"
     ]
    }
   ],
   "source": [
    "# Load the digit data from https://www.openml.org/d/554 or from default local location '~/scikit_learn_data/...'\n",
    "X, Y = fetch_openml(name='mnist_784', return_X_y=True, cache=False, as_frame=False)\n",
    "\n",
    "# Rescale grayscale values to [0,1].\n",
    "X = X / 255.0\n",
    "\n",
    "# Shuffle the input: create a random permutation of the integers between 0 and the number of data points and apply this\n",
    "# permutation to X and Y.\n",
    "# NOTE: Each time you run this cell, you'll re-shuffle the data, resulting in a different ordering.\n",
    "shuffle = np.random.permutation(np.arange(X.shape[0]))\n",
    "X, Y = X[shuffle], Y[shuffle]\n",
    "\n",
    "print('data shape: ', X.shape)\n",
    "print('label shape:', Y.shape)\n",
    "\n",
    "# Set some variables to hold test, dev, and training data.\n",
    "test_data, test_labels = X[61000:], Y[61000:]\n",
    "dev_data, dev_labels = X[60000:61000], Y[60000:61000]\n",
    "train_data, train_labels = X[:60000], Y[:60000]\n",
    "mini_train_data, mini_train_labels = X[:1000], Y[:1000]"
   ]
  },
  {
   "cell_type": "markdown",
   "metadata": {
    "id": "gr40-NstTzOl"
   },
   "source": [
    "### Question 1: Applying a smoothing using numpy.\n",
    "---\n",
    "\n",
    "A common image processing technique is to smooth an image by **blurring**. The idea is that the value of a particular pixel is estimated as the weighted combination of the original value and the values around it. Typically, the blurring is Gaussian, i.e., the weight of a pixel's influence is determined by a Gaussian function over the distance to the relevant pixel.\n",
    "\n",
    "1. Implement a simplified Gaussian blur filter by just using the 8 neighboring pixels like this: the smoothed value of a pixel is a weighted combination of the original value and the 8 neighboring values.\n",
    "1. Choose some weights as a starting point. Produce and evaluate four 1-Nearest Neighbor models by applying your blur filter in these ways:\n",
    "  1. Do not use the filter\n",
    "  1. Filter the training data but not the dev data\n",
    "  1. Filter the dev data but not the training data\n",
    "  1. Filter both training data and dev data\n",
    "1. Show the accuracies of the four models evaluated as described. What do you see? Can you explain why this is?\n",
    "1. Experiment with weights that makes one model's accuracy at least 0.9.\n",
    "\n",
    "Notes:\n",
    "* Train on the (filtered) mini train set.\n",
    "* Evaluate performance on the (filtered) dev set.\n",
    "* A good trick to simplify your code is to use numpy's pad function to add 0s around your original array so you don't have to deal with \"edge cases\".\n",
    "* In addition, you can use numpy to multiply and sum slices of two arrays.\n",
    "* [This notebook](https://colab.research.google.com/drive/1eJXTQLtREXQjQIsLOA9uCrBl6B049-pO) might help shows some example numpy code.\n",
    "* In general, [numpy operations will be much faster than for loops](https://colab.research.google.com/drive/1KJI4JtuIqVdyZHTTe_mAlKYA5XdLFp3_). \n",
    "* There are other Guassian blur filters available, for example in `scipy.ndimage.filters`. You are welcome to experiment with those, but in this question, please implement your own."
   ]
  },
  {
   "cell_type": "code",
   "execution_count": 45,
   "metadata": {},
   "outputs": [
    {
     "name": "stdout",
     "output_type": "stream",
     "text": [
      "A. Accuracy with no filters = 0.884\n",
      "B. Accuracy with filter on training data but not on dev data =0.911\n",
      "C. Accuracy with no filter on training data but filter on dev data = 0.84\n",
      "D. Accuracy with both filters on both training and dev data = 0.902\n"
     ]
    },
    {
     "data": {
      "image/png": "[encoded data removed]",
      "text/plain": [
       "<Figure size 360x360 with 1 Axes>"
      ]
     },
     "metadata": {
      "needs_background": "light"
     },
     "output_type": "display_data"
    }
   ],
   "source": [
    "\n",
    "### STUDENT START ###   \n",
    "def fit_knn(k, data, labels):\n",
    "    # Create KNN classifier\n",
    "    knn = KNeighborsClassifier(n_neighbors = k)\n",
    "    knn.fit(data,labels) \n",
    "    return knn\n",
    "\n",
    "def blur_images(images): \n",
    "    filtered_images = []\n",
    "    for i in range(images.shape[0]): \n",
    "        image = images[i].reshape((28, 28))\n",
    "        #Padd to add 0s around your original array so you don't have to deal with \"edge cases\".\n",
    "        image = np.pad(image, 1) \n",
    "\n",
    "        weights = np.array([[1/16, 1/8, 1/6],[1/16, 1/16, 1/6], [1/32, 1/16, 1/6]])\n",
    "        new_image  = np.zeros((image.shape[0] - weights.shape[0] + 1, image.shape[1] - weights.shape[1] + 1))\n",
    "\n",
    "        for g in range(28):\n",
    "            for h in range(28):\n",
    "                #numpy to multiply and sum slices of two arrays.\n",
    "                #cycle through each pixel grabbing a 3x3 grid and multiply it all values by the weight matrix\n",
    "                #then sum all values and assign to new image matrix\n",
    "                new_image[g, h] = np.sum(image[g:g+3, h:h+3] * weights)\n",
    "                \n",
    "        new_image = np.reshape (new_image, (784))   \n",
    "        filtered_images.append(new_image)     \n",
    "    return filtered_images\n",
    "\n",
    "\n",
    "def Q1(): \n",
    "    #(filtered) mini train set.\n",
    "    blurred_traindata = blur_images(mini_train_data)\n",
    "    #(filtered) dev set.\n",
    "    blurred_devdata = blur_images(dev_data)\n",
    "    \n",
    "    #A Do not use the filter\n",
    "    no_filter_knn = fit_knn(1,mini_train_data,mini_train_labels)\n",
    "    #pred = no_filter_knn.predict(dev_data)\n",
    "\n",
    "    no_filter_acc = no_filter_knn.score(dev_data, dev_labels)\n",
    "    print(f\"A. Accuracy with no filters = {no_filter_acc}\")\n",
    "\n",
    "\n",
    "    #B Filter the training data but not the dev data\n",
    "    filter_train_knn = fit_knn(1, blurred_traindata, mini_train_labels)\n",
    "    #pred = filter_train_knn.predict(dev_data)\n",
    "\n",
    "    filtertrain_acc = filter_train_knn.score(dev_data, dev_labels)\n",
    "    print(f\"B. Accuracy with filter on training data but not on dev data ={filtertrain_acc}\")\n",
    "    \n",
    "    \n",
    "    #C Filter the dev data but not the training data\n",
    "    filter_dev_knn = fit_knn(1,mini_train_data,mini_train_labels)\n",
    "    #pred = filter_train_knn.predict(dev_data)\n",
    "\n",
    "    filterdev_acc = filter_dev_knn.score(blurred_devdata, dev_labels)\n",
    "    print(f\"C. Accuracy with no filter on training data but filter on dev data = {filterdev_acc}\")   \n",
    "    \n",
    "    \n",
    "    #D Filter both training data and dev data\n",
    "    filter_both_knn = fit_knn(1,blurred_traindata,mini_train_labels)\n",
    "    #pred = filter_train_knn.predict(dev_data)\n",
    "    filter_both_acc = filter_both_knn.score(blurred_devdata, dev_labels)\n",
    "    print(f\"D. Accuracy with both filters on both training and dev data = {filter_both_acc}\")   \n",
    "    \n",
    "    plot_image(blurred_traindata)\n",
    "        \n",
    "\n",
    "def plot_image(data):\n",
    "    fig = plt.figure(figsize=(5,5))\n",
    "    pixels = np.asarray(data[8]).reshape((28, 28))\n",
    "    ax = fig.add_subplot(1, 1, 1)\n",
    "    ax.imshow(pixels, cmap=plt.cm.binary) # cmap='gray' \n",
    "    plt.show()\n",
    "\n",
    "### STUDENT END ###\n",
    "\n",
    "Q1()"
   ]
  },
  {
   "cell_type": "markdown",
   "metadata": {
    "id": "aN3HZPGuTzOn"
   },
   "source": [
    "### Question 2: Modeling your data and experimenting with different Naive Bayes models. \n",
    "---\n",
    "\n",
    "1. Produce two Naive Bayes models and evaluate their performances.  Recall that Naive Bayes estimates P(feature|label), where each label is a categorical, not a real number.\n",
    "  1. For the first model, map pixel values to either 0 or 1, representing white or black - you should pre-process the data or use `BernoulliNB`'s `binarize` parameter to set the white/black separation threshold to 0.1.  Use `BernoulliNB` to produce the model.\n",
    "  1. For the second model, map pixel values to either 0, 1, or 2, representing white, gray, or black - you should pre-process the data, seting the white/gray/black separation thresholds to 0.1 and 0.9.  Here you'll likely need to implement a `trianarize` helper function. Since we are going beyond the binary representation of our features, you should use `MultinomialNB` to produce the model.\n",
    "1. Show the Bernoulli model accuracy and the Multinomial model accuracy.\n",
    "1. Does the multinomial version improve the results? Why or why not?\n",
    "\n",
    "Notes:\n",
    "* Train on the mini train set.\n",
    "* Evaluate performance on the dev set.\n",
    "\n"
   ]
  },
  {
   "cell_type": "code",
   "execution_count": null,
   "metadata": {},
   "outputs": [],
   "source": [
    "# Solution with binarization by explicit binarize function\n",
    "def binarize(data, threshold = 0.1):\n",
    "    binarized_data = np.zeros(data.shape)\n",
    "    binarized_data[data > threshold] = 1\n",
    "    binarized_data[data < threshold] = 0\n",
    "    return binarized_data\n",
    "\n",
    "def trianarize(data, threshold=[0.1, 0.9]):\n",
    "    trianarize_data = np.zeros(data.shape) \n",
    "    trianarize_data[data <= threshold[0]] = 0\n",
    "    trianarize_data[(data > threshold[0]) & (data < threshold[1])] = 1\n",
    "    trianarize_data[data >= threshold[1]] = 2\n",
    "    return trianarize_data"
   ]
  },
  {
   "cell_type": "code",
   "execution_count": null,
   "metadata": {
    "id": "_1edM3ehTzOn"
   },
   "outputs": [],
   "source": [
    "\n",
    "def Q2():\n",
    "\n",
    "### STUDENT START ###\n",
    "    alpha = 1\n",
    "    binarized_train_data = binarize(mini_train_data) \n",
    "    binarized_dev_data = binarize(dev_data) \n",
    "\n",
    "    bern = BernoulliNB(alpha=alpha)\n",
    "   #bern.fit(binarized_train_data, mini_train_labels)\n",
    "    bern.fit(mini_train_data, mini_train_labels)\n",
    "    #Evaluate performance on the dev set.\n",
    "    pred = bern.predict(binarized_dev_data)\n",
    "\n",
    "    #Evaluate performance on the dev set.\n",
    "    acc = bern.score(binarized_dev_data, dev_labels)\n",
    "    print('===== Classification report for BernoulliNB =====')\n",
    "    print(f\"BernoulliNB accuracy={acc}\")\n",
    "    print(classification_report(dev_labels,pred))\n",
    "            \n",
    "    #For the second model trianarize\n",
    "    trianarize_train_data = trianarize(mini_train_data) \n",
    "\n",
    "    trianarize_dev_data = trianarize(dev_data) \n",
    "    mnb = MultinomialNB(alpha=alpha)\n",
    "    mnb.fit(trianarize_train_data, mini_train_labels)\n",
    "    \n",
    "    #Evaluate performance on the dev set.\n",
    "    predmnb = mnb.predict(trianarize_dev_data)\n",
    "\n",
    "    #Evaluate performance on the dev set.\n",
    "    acc = mnb.score(trianarize_dev_data, dev_labels)\n",
    "    print('===== Classification report for MultinomialNB =====')\n",
    "    print(f\"MultinomialNB accuracy={acc}\")\n",
    "    print(classification_report(dev_labels,predmnb))\n",
    "### STUDENT END ###\n",
    "Q2()"
   ]
  },
  {
   "cell_type": "markdown",
   "metadata": {
    "id": "Bbbpzl5ETzOp"
   },
   "source": [
    "ANSWER:  Does the multinomial version improve the results? Why or why not? TODO"
   ]
  },
  {
   "cell_type": "markdown",
   "metadata": {
    "id": "ymzuQZwsTzOp"
   },
   "source": [
    "### Question 3: Applying the grid search technique.\n",
    "1. Search across several values of the LaPlace smoothing parameter (alpha) to find its effect on a Bernoulli Naive Bayes model's performance.  Show the accuracy at each alpha value.\n",
    "1. What is the best value for alpha? What is the accuracy when alpha is near 0? Is this what you'd expect?\n",
    "\n",
    "Notes:\n",
    "* Set binarization threshold to 0.\n",
    "* Train on the mini train set.\n",
    "* Evaluate performance by 5-fold cross-validation. \n",
    "* Use `GridSearchCV(..., ..., cv=..., scoring='accuracy', iid=False)` to vary alpha and evaluate performance by cross-validation.\n",
    "* Cross-validation is based on partitions of the training data, so results will be a bit different than if you had used the dev set to evaluate performance.\n",
    "\n"
   ]
  },
  {
   "cell_type": "code",
   "execution_count": null,
   "metadata": {
    "id": "1qc1fG0OTzOq"
   },
   "outputs": [],
   "source": [
    "def Q3(alphas):\n",
    "\n",
    "### STUDENT START ###\n",
    "    #Set binarization threshold to 0.\n",
    "    binarized_train_data = binarize(mini_train_data, 0) \n",
    "    binarized_dev_data = binarize(dev_data, 0) \n",
    "\n",
    "\n",
    "    #params = []\n",
    "    #params = params.append(alphas.get(\"alpha\"))\n",
    "    \n",
    "    gs = GridSearchCV(estimator = BernoulliNB(),\n",
    "                      param_grid = alphas,\n",
    "                      scoring='accuracy'\n",
    "                      #,verbose = 3\n",
    "                     )\n",
    "    \n",
    "    gs.fit(binarized_train_data, mini_train_labels)\n",
    "    \n",
    "    \n",
    "\n",
    "    #Evaluate performance on the dev set.\n",
    "    pred = gs.predict(binarized_dev_data)\n",
    "\n",
    "    #Evaluate performance on the dev set.\n",
    "    acc = gs.score(binarized_dev_data, dev_labels)\n",
    "    #print('===== Classification report for BernoulliNB =====')\n",
    "    print(f\"GridSearchCV accuracy={acc}\")\n",
    "    print(classification_report(dev_labels,pred))\n",
    "    print( \"Best Params\" + str(gs.best_params_))\n",
    "    # extract best estimator\n",
    "    print(gs.cv_results_[\"mean_test_score\"])\n",
    "### STUDENT END ###\n",
    "\n",
    "alphas = {'alpha': [1.0e-10, 0.0001, 0.001, 0.01, 0.1, 0.5, 1.0, 2.0, 10.0]}\n",
    "Q3(alphas)\n"
   ]
  },
  {
   "cell_type": "markdown",
   "metadata": {
    "id": "6g4fnGFPTzOq"
   },
   "source": [
    "ANSWER: What is the best value for alpha? What is the accuracy when alpha is near 0? Is this what you'd expect?\n",
    "\n"
   ]
  },
  {
   "cell_type": "markdown",
   "metadata": {
    "id": "aQ6MaDU6TzOr"
   },
   "source": [
    "### Question 4: Experimenting with Gaussian Naive Bayes\n",
    "---\n",
    "1. Produce a model using Guassian Naive Bayes, which is intended for real-valued features, and evaluate performance. You will notice that it does not work so well. \n",
    "1. Diagnose and explain the problem.\n",
    "1. Apply a simple fix so that the model accuracy is around the same as for a Bernoulli Naive Bayes model. \n",
    "1. Show the model accuracy before your fix and the model accuracy after your fix.  \n",
    "1. Explain your solution.\n",
    "\n",
    "Notes:\n",
    "* Train on the mini train set.\n",
    "* Evaluate performance on the dev set.\n",
    "* Take a look at var_smoothing argument for GaussianNB.\n",
    "* Feel free to  examine theta and sigma to better understand what's happening. In general though, **it is not a good idea to mess with internal variables of the model**. These are stored in the model's `theta_` and `sigma_` attributes."
   ]
  },
  {
   "cell_type": "code",
   "execution_count": null,
   "metadata": {
    "id": "XqW86YbKTzOr"
   },
   "outputs": [],
   "source": [
    "#assumes features follow normal distribution\n",
    "def Q4():\n",
    "\n",
    "### STUDENT END ###\n",
    "    gnb = GaussianNB()\n",
    "    gnb.fit(mini_train_data, mini_train_labels)\n",
    "    \n",
    "    #Evaluate performance on the dev set.\n",
    "    pred = gnb.predict(dev_data)\n",
    "\n",
    "    #Evaluate performance on the dev set.\n",
    "    acc = gnb.score(dev_data, dev_labels)\n",
    "    \n",
    "    print('===== Classification report for GaussianNB Before Smoothing =====')\n",
    "    print(f\"GaussianNB accuracy={acc}\")\n",
    "    print(classification_report(dev_labels,pred))\n",
    "    \n",
    "    gnb = GaussianNB(var_smoothing=.1)\n",
    "    gnb.fit(mini_train_data, mini_train_labels)    \n",
    "    #Evaluate performance on the dev set.\n",
    "    pred = gnb.predict(dev_data)\n",
    "\n",
    "    #Evaluate performance on the dev set.\n",
    "    acc = gnb.score(dev_data, dev_labels)\n",
    "    \n",
    "    print('===== Classification report for GaussianNB After Smoothing =====')\n",
    "    print(f\"GaussianNB accuracy={acc}\")\n",
    "    print(classification_report(dev_labels,pred))\n",
    "    \n",
    "### STUDENT END ###\n",
    "\n",
    "Q4()"
   ]
  },
  {
   "cell_type": "markdown",
   "metadata": {
    "id": "wE5eQXsPTzOs"
   },
   "source": [
    "ANSWER: 1. 0 is not smoothing allows for some small probability that not zero to give wiggle room"
   ]
  },
  {
   "cell_type": "markdown",
   "metadata": {
    "id": "AXx4SGNeTzOs"
   },
   "source": [
    "### Question 5: Naive Bayes as a generative model\n",
    "---\n",
    "Because Naive Bayes produces a generative model, you can use it to generate digit images.\n",
    "\n",
    "1. Produce a Bernoulli Naive Bayes model and then use it to generate a 10x10 grid with 10 example images of each digit. Each pixel output will be either 0 or 1: randomly generating a number and then comparing it to the estimated probability of the pixel being either 0 or 1.  Show the grid.\n",
    "1. How do the generated digit images compare to the training digit images?\n",
    "\n",
    "Notes:\n",
    "* You can use np.random.rand() to generate random numbers from a uniform distribution.\n",
    "* The estimated probability of each pixel being 0 or 1 is stored in the model's `feature_log_prob_` attribute. You can use `np.exp()` to convert a log probability back to a probability.\n",
    "\n"
   ]
  },
  {
   "cell_type": "code",
   "execution_count": null,
   "metadata": {},
   "outputs": [],
   "source": [
    "array = np.random.rand(5) \n",
    "print(\"1D Array filled with random values : \\n\", array);"
   ]
  },
  {
   "cell_type": "code",
   "execution_count": null,
   "metadata": {
    "id": "WDCNbv7ETzOt",
    "scrolled": false
   },
   "outputs": [],
   "source": [
    "def Q5(num_examples):\n",
    "    \n",
    "### STUDENT START ###\n",
    "    fig = plt.figure(figsize=(15,15))\n",
    "    x=0\n",
    "    \n",
    "    binarized_train_data = binarize(mini_train_data) \n",
    "    binarized_dev_data = binarize(dev_data) \n",
    "\n",
    "    bern = BernoulliNB().fit(binarized_train_data, mini_train_labels)\n",
    "    digit_log_prob = bern.feature_log_prob_\n",
    "  \n",
    "    for i in range(num_examples):\n",
    "        for j in range(num_examples):\n",
    "            x=x+1\n",
    "            digit_probs = digit_log_prob[i]\n",
    "            #print(np.exp(digit_probs))\n",
    "            #print(digit_probs.shape)\n",
    "            pixels = np.asarray([1 if np.random.rand() <= np.exp(prob) else 0 for prob in digit_probs])\n",
    "            image = pixels.reshape((28, 28))\n",
    "\n",
    "            #plot each digit\n",
    "            ax = fig.add_subplot(num_examples, num_examples, x, xticks=[], yticks=[],xlabel=i)\n",
    "            #setting the colormap, for example to black and white.\n",
    "            ax.imshow(image, cmap=plt.cm.binary) # cmap='gray'   \n",
    "\n",
    "    plt.show()\n",
    "### STUDENT END ###\n",
    "\n",
    "Q5(10)"
   ]
  },
  {
   "cell_type": "markdown",
   "metadata": {
    "id": "2ENXdzngTzOu"
   },
   "source": [
    "ANSWER: "
   ]
  },
  {
   "cell_type": "code",
   "execution_count": null,
   "metadata": {},
   "outputs": [],
   "source": []
  },
  {
   "cell_type": "markdown",
   "metadata": {
    "id": "CRkUEi50TzOu"
   },
   "source": [
    "### Question 6: Model Calibraiton\n",
    "---\n",
    "Recall that:\n",
    " * a **strongly calibrated** classifier is rougly 90% accurate when it says it is 90% accurate. The model's estimated posterior probability of the predicted class is indeed 0.9. \n",
    " * A **weakly calibrated** classifier is more accurate when it \"says\" it is more accurate. The actual accuracy is higher when the model's estimated posterior probability is higher.\n",
    " * A **poorly calibrated** classifier has no positive correlation between the model's estimate posterior probability and the actual accuracy.\n",
    "\n",
    "1. Produce a Bernoulli Naive Bayes model.  \n",
    "1. Evaluate performance: \n",
    "  1. Partition the dev set into several buckets based on the estimated posterior probabilities of the predicted classes (predict_proba)\n",
    "    - Think of it as a bin in a histogram, where each bin groups a range of estimated posterior probabilities of the predicted classes (predict_proba).\n",
    "    - Then estimate the actual accuracy the classifier achieved for each bucket. \n",
    "    - So, for each prediction:\n",
    "       - Find the bucket whose range includes the estimated posterior probability, \n",
    "       - and update \"correct\" and \"total\" counters accordingly. \n",
    "       - Show the accuracy for each bucket.\n",
    "1. How would you characterize the calibration for this Bernoulli Naive Bayes model according to the definitions above?\n",
    "\n",
    "Notes:\n",
    "* Set LaPlace smoothing (alpha) to the optimal value (from part 8).\n",
    "* Set binarization threshold to 0.\n",
    "* Train on the mini train set.\n",
    "* Evaluate perfromance on the dev set.\n",
    "\n"
   ]
  },
  {
   "cell_type": "code",
   "execution_count": null,
   "metadata": {
    "id": "3Gz3NDY9TzOu"
   },
   "outputs": [],
   "source": [
    "from sklearn.calibration import calibration_curve\n",
    "\n",
    "def Q6(buckets, correct, total):\n",
    "    \n",
    "### STUDENT START ###\n",
    "    alpha = 0.001\n",
    "    \n",
    "    #Set binarization threshold to 0.\n",
    "    binarized_train_data = binarize(mini_train_data, 0) \n",
    "    binarized_dev_data = binarize(dev_data) \n",
    "\n",
    "    #Set LaPlace smoothing (alpha) to the optimal value (from part 8).\n",
    "    bern = BernoulliNB(alpha=alpha).fit(binarized_train_data, mini_train_labels)\n",
    "    \n",
    "    #Evaluate performance on the dev set.\n",
    "    pred = bern.predict(binarized_dev_data)\n",
    "\n",
    "    #Evaluate performance on the dev set.\n",
    "    #acc = bern.score(binarized_dev_data, dev_labels)\n",
    "    #print('===== Classification report for BernoulliNB =====')\n",
    "    #print(f\"BernoulliNB accuracy={acc}\")\n",
    "    #print(classification_report(dev_labels,pred))    \n",
    "    \n",
    "    posterior_probs = bern.predict_proba(binarized_dev_data)\n",
    "    print(posterior_probs)\n",
    "\n",
    "\n",
    "    \n",
    "### STUDENT END ###\n",
    "\n",
    "buckets = [0.5, 0.9, 0.999, 0.99999, 0.9999999, 0.999999999, 0.99999999999, 0.9999999999999, 1.0]\n",
    "correct = [0 for i in buckets]\n",
    "total = [0 for i in buckets]\n",
    "\n",
    "Q6(buckets, correct, total)"
   ]
  },
  {
   "cell_type": "markdown",
   "metadata": {
    "id": "7PYLz-1STzOu"
   },
   "source": [
    "ANSWER: "
   ]
  },
  {
   "cell_type": "markdown",
   "metadata": {
    "id": "tIeZGen1TzOv"
   },
   "source": [
    "### Question 7 EXTRA CREDIT: Feature generation\n",
    "---\n",
    "1. Design new features to see if you can produce a Bernoulli Naive Bayes model with better performance.\n",
    "1. Show the accuracy of a model based on the original features and the accuracy of the model based on the new features.\n",
    "\n",
    "**Note that improving results is actually hard.**\n",
    "\n",
    "Here are a few ideas to get you started:\n",
    "- Try summing or averaging the pixel values in each row.\n",
    "- Try summing or averaging the pixel values in each column.\n",
    "- Try summing or averaging the pixel values in each square block. (pick various block sizes)\n",
    "- Try implementing [*maxpool*](https://computersciencewiki.org/index.php/Max-pooling_/_Pooling) features, taking a rolling maximum over sub-regions of a the image. \n",
    "- In any case, you can either transform the original data or add new \"features\" to it.\n",
    "\n",
    "Notes:\n",
    "* Train on the mini train set (enhanced to comprise the new features).\n",
    "* Evaulate performance on the dev set.\n",
    "* Ensure that your code is well commented."
   ]
  },
  {
   "cell_type": "code",
   "execution_count": null,
   "metadata": {
    "id": "6GtYu5ezTzOv"
   },
   "outputs": [],
   "source": [
    "def Q7():\n",
    "\n",
    "### STUDENT START ###\n",
    "\n",
    "### STUDENT END ###\n",
    "\n",
    "Q7()"
   ]
  },
  {
   "cell_type": "code",
   "execution_count": null,
   "metadata": {
    "id": "4hOkGA6Rufd6"
   },
   "outputs": [],
   "source": []
  },
  {
   "cell_type": "code",
   "execution_count": null,
   "metadata": {},
   "outputs": [],
   "source": []
  },
  {
   "cell_type": "code",
   "execution_count": null,
   "metadata": {},
   "outputs": [],
   "source": []
  }
 ],
 "metadata": {
  "colab": {
   "collapsed_sections": [],
   "name": "firstname_lastname_project2.ipynb",
   "provenance": []
  },
  "kernelspec": {
   "display_name": "Python 3",
   "language": "python",
   "name": "python3"
  },
  "language_info": {
   "codemirror_mode": {
    "name": "ipython",
    "version": 3
   },
   "file_extension": ".py",
   "mimetype": "text/x-python",
   "name": "python",
   "nbconvert_exporter": "python",
   "pygments_lexer": "ipython3",
   "version": "3.8.10"
  },
  "toc": {
   "base_numbering": 1,
   "nav_menu": {},
   "number_sections": false,
   "sideBar": true,
   "skip_h1_title": true,
   "title_cell": "Table of Contents",
   "title_sidebar": "Contents",
   "toc_cell": false,
   "toc_position": {},
   "toc_section_display": true,
   "toc_window_display": false
  }
 },
 "nbformat": 4,
 "nbformat_minor": 1
}
